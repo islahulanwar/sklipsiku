{
  "cells": [
    {
      "attachments": {},
      "cell_type": "markdown",
      "metadata": {
        "colab_type": "text",
        "id": "view-in-github"
      },
      "source": [
        "<a href=\"https://colab.research.google.com/github/Soedirman-Machine-Learning/Plant-disease/blob/master/DeteksiPenyakit_tanaman_mobilenet_Insya_Allah_fix.ipynb\" target=\"_parent\"><img src=\"https://colab.research.google.com/assets/colab-badge.svg\" alt=\"Open In Colab\"/></a>"
      ]
    },
    {
      "attachments": {},
      "cell_type": "markdown",
      "metadata": {
        "colab_type": "text",
        "id": "oGkuR5rue-wg"
      },
      "source": [
        "# Training a Plant Disease Diagnosis Model with PlantVillage Dataset\n",
        "\n",
        "> Indented block\n",
        "\n"
      ]
    },
    {
      "cell_type": "code",
      "execution_count": 1,
      "metadata": {
        "colab": {
          "base_uri": "https://localhost:8080/",
          "height": 81
        },
        "colab_type": "code",
        "id": "0DbSbnYUnOvy",
        "outputId": "10e4b4e2-7e8c-4913-d65f-21df683d1e8c"
      },
      "outputs": [
        {
          "ename": "ModuleNotFoundError",
          "evalue": "No module named 'matplotlib'",
          "output_type": "error",
          "traceback": [
            "\u001b[1;31m---------------------------------------------------------------------------\u001b[0m",
            "\u001b[1;31mModuleNotFoundError\u001b[0m                       Traceback (most recent call last)",
            "Cell \u001b[1;32mIn[1], line 3\u001b[0m\n\u001b[0;32m      1\u001b[0m \u001b[38;5;28;01mimport\u001b[39;00m \u001b[38;5;21;01mnumpy\u001b[39;00m \u001b[38;5;28;01mas\u001b[39;00m \u001b[38;5;21;01mnp\u001b[39;00m\n\u001b[0;32m      2\u001b[0m \u001b[38;5;28;01mimport\u001b[39;00m \u001b[38;5;21;01mos\u001b[39;00m\n\u001b[1;32m----> 3\u001b[0m \u001b[38;5;28;01mimport\u001b[39;00m \u001b[38;5;21;01mmatplotlib\u001b[39;00m\u001b[38;5;21;01m.\u001b[39;00m\u001b[38;5;21;01mpyplot\u001b[39;00m \u001b[38;5;28;01mas\u001b[39;00m \u001b[38;5;21;01mplt\u001b[39;00m\n\u001b[0;32m      4\u001b[0m plt\u001b[38;5;241m.\u001b[39mstyle\u001b[38;5;241m.\u001b[39muse(\u001b[38;5;124m'\u001b[39m\u001b[38;5;124mdefault\u001b[39m\u001b[38;5;124m'\u001b[39m)\n\u001b[0;32m      5\u001b[0m \u001b[38;5;28;01mfrom\u001b[39;00m \u001b[38;5;21;01mskimage\u001b[39;00m\u001b[38;5;21;01m.\u001b[39;00m\u001b[38;5;21;01mio\u001b[39;00m \u001b[38;5;28;01mimport\u001b[39;00m imread\n",
            "\u001b[1;31mModuleNotFoundError\u001b[0m: No module named 'matplotlib'"
          ]
        }
      ],
      "source": [
        "import numpy as np\n",
        "import os\n",
        "import matplotlib.pyplot as plt\n",
        "plt.style.use('default')\n",
        "from skimage.io import imread\n",
        "from sklearn.metrics import classification_report, confusion_matrix\n",
        "from sklearn.model_selection import train_test_split\n",
        "\n",
        "\n",
        "import keras\n",
        "import keras.backend as K\n",
        "from keras.preprocessing.image import load_img, img_to_array, ImageDataGenerator\n",
        "from keras.utils.np_utils import to_categorical\n",
        "\n",
        "from keras.utils.data_utils import get_file\n",
        "\n",
        "from keras import layers\n",
        "from keras.models import Sequential, Model\n",
        "from keras.callbacks import EarlyStopping, ModelCheckpoint\n",
        "\n",
        "\n",
        "from sklearn.model_selection import train_test_split\n",
        "\n"
      ]
    },
    {
      "attachments": {},
      "cell_type": "markdown",
      "metadata": {
        "colab_type": "text",
        "id": "g426U4uPiRHp"
      },
      "source": [
        "# Persiapan"
      ]
    },
    {
      "attachments": {},
      "cell_type": "markdown",
      "metadata": {
        "colab_type": "text",
        "id": "sSN_txlHfJNU"
      },
      "source": [
        "## Pengambilan Data "
      ]
    },
    {
      "cell_type": "code",
      "execution_count": null,
      "metadata": {
        "colab": {},
        "colab_type": "code",
        "id": "x4jjTgsFe4q8"
      },
      "outputs": [],
      "source": [
        "!apt-get install subversion > /dev/null\n",
        "\n",
        "#Retreive specifc diseases of tomato for training\n",
        "!svn export https://github.com/spMohanty/PlantVillage-Dataset/trunk/raw/color/Tomato___Bacterial_spot image/Tomato___Bacterial_spot　>  /dev/null\n",
        "!svn export https://github.com/spMohanty/PlantVillage-Dataset/trunk/raw/color/Tomato___Early_blight image/Tomato___Early_blight　>  /dev/null\n",
        "!svn export https://github.com/spMohanty/PlantVillage-Dataset/trunk/raw/color/Tomato___Late_blight image/Tomato___Late_blight　>  /dev/null\n",
        "!svn export https://github.com/spMohanty/PlantVillage-Dataset/trunk/raw/color/Tomato___Septoria_leaf_spot image/Tomato___Septoria_leaf_spot　>  /dev/null\n",
        "!svn export https://github.com/spMohanty/PlantVillage-Dataset/trunk/raw/color/Tomato___Target_Spot image/Tomato___Target_Spot　>  /dev/null\n",
        "!svn export https://github.com/spMohanty/PlantVillage-Dataset/trunk/raw/color/Tomato___healthy image/Tomato___healthy　>  /dev/null\n",
        "!svn export https://github.com/spMohanty/PlantVillage-Dataset/trunk/raw/color/Tomato___Tomato_mosaic_virus image/Tomato___mosaic_virus >  /dev/null\n",
        "!svn export https://github.com/spMohanty/PlantVillage-Dataset/trunk/raw/color/Tomato___Spider_mites%20Two-spotted_spider_mite image/Tomato___Spider_mites_20Two-spotted_spider_mite >  /dev/null\n",
        "!svn export https://github.com/spMohanty/PlantVillage-Dataset/trunk/raw/color/Tomato___Leaf_Mold image/Tomato___Leaf_Mold >  /dev/null\n",
        "!svn export https://github.com/spMohanty/PlantVillage-Dataset/trunk/raw/color/Tomato___Tomato_Yellow_Leaf_Curl_Virus image/Tomato___Yellow_Leaf_Curl_Virus >  /dev/null"
      ]
    },
    {
      "cell_type": "code",
      "execution_count": null,
      "metadata": {
        "colab": {
          "base_uri": "https://localhost:8080/",
          "height": 156
        },
        "colab_type": "code",
        "id": "aNhZKWt5jeJV",
        "outputId": "98aa168c-3631-4fb5-e456-c8f0ee4ec641"
      },
      "outputs": [],
      "source": [
        "#folder structure\n",
        "!ls image"
      ]
    },
    {
      "cell_type": "code",
      "execution_count": null,
      "metadata": {
        "colab": {
          "base_uri": "https://localhost:8080/",
          "height": 1000
        },
        "colab_type": "code",
        "id": "z_Zv9KQT6hxr",
        "outputId": "a598f669-2cbd-4a83-94c9-2801f7aba094"
      },
      "outputs": [],
      "source": [
        "plt.figure(figsize=(15,10))\n",
        "\n",
        "#visualize several images\n",
        "\n",
        "parent_directory = \"image\"\n",
        "\n",
        "for i, folder in enumerate(os.listdir(parent_directory)):\n",
        "    print(folder)\n",
        "    folder_directory = os.path.join(parent_directory,folder)\n",
        "    files = os.listdir(folder_directory)\n",
        "    #will inspect only 1 image per folder\n",
        "    file = files[0] \n",
        "    file_path = os.path.join(folder_directory,file)\n",
        "    \n",
        "    image = imread(file_path)\n",
        "    plt.subplot(1,15,i+1)\n",
        "    plt.imshow(image)\n",
        "    plt.axis(\"off\")\n",
        "    \n",
        "    name = folder.split(\"___\")[1][:-1]\n",
        "    plt.title(name)\n",
        "    plt.show()"
      ]
    },
    {
      "cell_type": "code",
      "execution_count": null,
      "metadata": {
        "colab": {
          "base_uri": "https://localhost:8080/",
          "height": 277
        },
        "colab_type": "code",
        "id": "j4w9gq1DAEUq",
        "outputId": "025f0c58-d71e-4641-b29c-d3665e726157"
      },
      "outputs": [],
      "source": [
        "#load everything into memory\n",
        "x = []\n",
        "y = []\n",
        "class_names = []\n",
        "parent_directory = \"image\"\n",
        "\n",
        "for i,folder in enumerate(os.listdir(parent_directory)):\n",
        "    print(i,folder)\n",
        "    class_names.append(folder)\n",
        "    folder_directory = os.path.join(parent_directory,folder)\n",
        "    files = os.listdir(folder_directory)\n",
        "    #will inspect only 1 image per folder\n",
        "    for file in files:\n",
        "        file_path = os.path.join(folder_directory,file)\n",
        "        image = load_img(file_path,target_size=(64,64))\n",
        "        image = img_to_array(image)/255.\n",
        "        x.append(image)\n",
        "        y.append(i)\n",
        "\n",
        "x = np.array(x)\n",
        "y = to_categorical(y)"
      ]
    },
    {
      "cell_type": "code",
      "execution_count": null,
      "metadata": {
        "colab": {
          "base_uri": "https://localhost:8080/",
          "height": 69
        },
        "colab_type": "code",
        "id": "x6ZshzbdBiMl",
        "outputId": "02f510ba-5c4b-456a-a76b-a83c55e191f1"
      },
      "outputs": [],
      "source": [
        "#check the data shape\n",
        "print(x.shape)\n",
        "print(y.shape)\n",
        "print(y[0])"
      ]
    },
    {
      "cell_type": "code",
      "execution_count": null,
      "metadata": {
        "colab": {
          "base_uri": "https://localhost:8080/",
          "height": 69
        },
        "colab_type": "code",
        "id": "0cJXZ4agBtT-",
        "outputId": "2adbcd9c-aa26-4127-fa39-56997e29f049"
      },
      "outputs": [],
      "source": [
        "x_train, _x, y_train, _y = train_test_split(x,y,test_size=0.2, stratify = y, random_state = 1)\n",
        "x_valid,x_test, y_valid, y_test = train_test_split(_x,_y,test_size=0.4, stratify = _y, random_state = 1)\n",
        "\n",
        "print(\"train data:\",x_train.shape,y_train.shape)\n",
        "print(\"validation data:\",x_valid.shape,y_valid.shape)\n",
        "print(\"test data:\",x_test.shape,y_test.shape)\n"
      ]
    },
    {
      "cell_type": "code",
      "execution_count": null,
      "metadata": {
        "colab": {
          "base_uri": "https://localhost:8080/",
          "height": 158
        },
        "colab_type": "code",
        "id": "nDGxe7JXW9uI",
        "outputId": "4a9fb526-7d31-4e53-f156-3bdceeaa4b5c"
      },
      "outputs": [],
      "source": [
        "import tensorflow as tf\n",
        "IMG_SHAPE = (64, 64, 3)\n",
        "# Membuat model dasar (base model) dari pre-trained model MobileNet\n",
        "base_model = tf.keras.applications.MobileNet(input_shape=IMG_SHAPE,\n",
        "                                              include_top=False, \n",
        "                                              weights='imagenet')"
      ]
    },
    {
      "cell_type": "code",
      "execution_count": null,
      "metadata": {
        "colab": {
          "base_uri": "https://localhost:8080/",
          "height": 1000
        },
        "colab_type": "code",
        "id": "wRKu23hQW_xG",
        "outputId": "d7278f15-b6f8-4f0e-9903-5c84f892864d"
      },
      "outputs": [],
      "source": [
        "base_model.trainable = True\n",
        "base_model.summary()"
      ]
    },
    {
      "attachments": {},
      "cell_type": "markdown",
      "metadata": {
        "colab_type": "text",
        "id": "ma87VMOBoX-k"
      },
      "source": [
        "## Model Preparation"
      ]
    },
    {
      "cell_type": "code",
      "execution_count": null,
      "metadata": {
        "colab": {
          "base_uri": "https://localhost:8080/",
          "height": 329
        },
        "colab_type": "code",
        "id": "kncFFJtljmbh",
        "outputId": "2f017bcf-1e2f-4763-dc8e-b9f26e107fb4"
      },
      "outputs": [],
      "source": [
        "model = tf.keras.Sequential([\n",
        "    base_model,    \n",
        "    tf.keras.layers.Conv2D(32, 2, activation='relu'),\n",
        "    tf.keras.layers.Dropout(0.2),\n",
        "    tf.keras.layers.GlobalAveragePooling2D(),\n",
        "    tf.keras.layers.Dense(15, activation='softmax')\n",
        "])\n",
        "\n",
        "model.compile(\"adam\",loss=\"categorical_crossentropy\",metrics=[\"acc\"])\n",
        "model.summary()\n"
      ]
    },
    {
      "attachments": {},
      "cell_type": "markdown",
      "metadata": {
        "colab_type": "text",
        "id": "CMqZzhiztiv0"
      },
      "source": [
        "## Training"
      ]
    },
    {
      "cell_type": "code",
      "execution_count": null,
      "metadata": {
        "colab": {},
        "colab_type": "code",
        "id": "_bxsVtqBFmoH"
      },
      "outputs": [],
      "source": [
        "#utilize early stopping function to stop at the lowest validation loss\n",
        "es = EarlyStopping(monitor='val_loss', patience=10, verbose=1, mode='auto')\n",
        "#utilize save best weight model during training\n",
        "ckpt = ModelCheckpoint(\"DeteksiPenyakitTanaman.hdf5\", monitor='val_loss', verbose=1, save_best_only=True, save_weights_only=False, mode='auto', period=1)"
      ]
    },
    {
      "cell_type": "code",
      "execution_count": null,
      "metadata": {
        "colab": {},
        "colab_type": "code",
        "id": "-BEzeqUZofYP"
      },
      "outputs": [],
      "source": [
        "#we will define a generator class for training data and validation data seperately, as no augmentation is not required for validation data\n",
        "t_gen = ImageDataGenerator(rotation_range=90,horizontal_flip=True)\n",
        "v_gen = ImageDataGenerator()\n",
        "train_gen = t_gen.flow(x_train,y_train,batch_size=98)\n",
        "valid_gen = v_gen.flow(x_valid,y_valid,batch_size=98)"
      ]
    },
    {
      "cell_type": "code",
      "execution_count": null,
      "metadata": {
        "colab": {
          "base_uri": "https://localhost:8080/",
          "height": 1000
        },
        "colab_type": "code",
        "id": "eglAa6dhGoc9",
        "outputId": "7fd744aa-947e-4a42-80b7-4bbfc5984979"
      },
      "outputs": [],
      "source": [
        "history = model.fit_generator(\n",
        "    train_gen,\n",
        "    steps_per_epoch = train_gen.n // 98,\n",
        "    #callbacks = [ckpt],\n",
        "    callbacks = [es,ckpt],\n",
        "    validation_data = valid_gen,\n",
        "    validation_steps = valid_gen.n // 98,\n",
        "    \n",
        "    epochs=100)"
      ]
    },
    {
      "cell_type": "code",
      "execution_count": null,
      "metadata": {
        "colab": {
          "base_uri": "https://localhost:8080/",
          "height": 802
        },
        "colab_type": "code",
        "id": "htc-vkEM1qYE",
        "outputId": "cdccf750-97e8-4dc0-88f9-1e78ef6f6b20"
      },
      "outputs": [],
      "source": [
        "plt.figure(figsize=(10, 4))\n",
        "#plt.subplot(1, 5, 4)\n",
        "plt.plot(history.history[\"acc\"],label=\"Akurasi Pelatihan\")\n",
        "plt.plot(history.history[\"val_acc\"],label=\"Validasi Akurasi\")\n",
        "plt.legend()\n",
        "plt.title('Training and Validation Accuracy')\n",
        "plt.ylabel(\"Accuracy (training and validation)\")\n",
        "plt.xlabel(\"Training Steps\")\n",
        "plt.show()\n",
        "plt.figure(figsize=(10, 4))\n",
        "#plt.subplot(1, 3, 2)\n",
        "plt.plot(history.history[\"loss\"],label=\"Kesalahan Pelatihan\")\n",
        "plt.plot(history.history[\"val_loss\"],label=\"Validasi Kesalahan\")\n",
        "plt.legend()\n",
        "plt.title('Training and Validation Loss')\n",
        "plt.ylabel(\"Loss (training and validation)\")\n",
        "plt.xlabel(\"Training Steps\")\n",
        "plt.show()"
      ]
    },
    {
      "attachments": {},
      "cell_type": "markdown",
      "metadata": {
        "colab_type": "text",
        "id": "f481o6lhQDtm"
      },
      "source": [
        "## Evaluation"
      ]
    },
    {
      "cell_type": "code",
      "execution_count": null,
      "metadata": {
        "colab": {},
        "colab_type": "code",
        "id": "vMivaFVWubGk"
      },
      "outputs": [],
      "source": [
        "#load the model weight file with lowest validation loss\n",
        "model.load_weights(\"DeteksiPenyakitTanaman.hdf5\")"
      ]
    },
    {
      "cell_type": "code",
      "execution_count": null,
      "metadata": {
        "colab": {
          "base_uri": "https://localhost:8080/",
          "height": 138
        },
        "colab_type": "code",
        "id": "fhxE8TK0Mvrx",
        "outputId": "0ca43a4e-c897-4bee-948d-dcea98570b21"
      },
      "outputs": [],
      "source": [
        "#check the model metrics\n",
        "print(model.metrics_names)\n",
        "#evaluate training data\n",
        "print(model.evaluate(x= x_train, y = y_train))\n",
        "#evaluate  validation data\n",
        "print(model.evaluate(x= x_valid, y = y_valid))\n",
        "#evaluate  test data\n",
        "print(model.evaluate(x= x_test, y = y_test))      "
      ]
    },
    {
      "cell_type": "code",
      "execution_count": null,
      "metadata": {
        "colab": {
          "base_uri": "https://localhost:8080/",
          "height": 52
        },
        "colab_type": "code",
        "id": "GLkicY6kMyC7",
        "outputId": "7a299b5c-5be2-4c20-97a2-db19f3e919d6"
      },
      "outputs": [],
      "source": [
        "#draw a confusion matrix\n",
        "\n",
        "#true label\n",
        "y_true = np.argmax(y_test,axis=1)\n",
        "\n",
        "#prediction label\n",
        "Y_pred = model.predict(x_test)\n",
        "y_pred = np.argmax(Y_pred, axis=1)\n",
        "\n",
        "print(y_true)\n",
        "print(y_pred)"
      ]
    },
    {
      "cell_type": "code",
      "execution_count": null,
      "metadata": {
        "colab": {
          "base_uri": "https://localhost:8080/",
          "height": 1000
        },
        "colab_type": "code",
        "id": "Zj76uI3vy_xJ",
        "outputId": "b0e8a049-0bdf-40e1-ae81-4e4003aed08d"
      },
      "outputs": [],
      "source": [
        "#https://scikit-learn.org/stable/auto_examples/model_selection/plot_confusion_matrix.html#sphx-glr-auto-examples-model-selection-plot-confusion-matrix-py\n",
        "from sklearn.metrics import confusion_matrix\n",
        "from sklearn.utils.multiclass import unique_labels\n",
        "\n",
        "def plot_confusion_matrix(y_true, y_pred, classes,\n",
        "                          normalize=False,\n",
        "                          title=None,\n",
        "                          cmap=plt.cm.Blues):\n",
        "    \"\"\"\n",
        "    This function prints and plots the confusion matrix.\n",
        "    Normalization can be applied by setting `normalize=True`.\n",
        "    \"\"\"\n",
        "    if not title:\n",
        "        if normalize:\n",
        "            title = 'Normalized confusion matrix'\n",
        "        else:\n",
        "            title = 'Confusion matrix, without normalization'\n",
        "\n",
        "    # Compute confusion matrix\n",
        "    cm = confusion_matrix(y_true, y_pred)\n",
        "    # Only use the labels that appear in the data\n",
        "    #classes = classes[unique_labels(y_true, y_pred)]\n",
        "    if normalize:\n",
        "        cm = cm.astype('float') / cm.sum(axis=1)[:, np.newaxis]\n",
        "        print(\"Normalized confusion matrix\")\n",
        "    else:\n",
        "        print('Confusion matrix, without normalization')\n",
        "\n",
        "    print(cm)\n",
        "\n",
        "    fig, ax = plt.subplots(figsize=(9,9))\n",
        "    im = ax.imshow(cm, interpolation='nearest', cmap=cmap)\n",
        "    #ax.figure.colorbar(im, ax=ax)\n",
        "    # We want to show all ticks...\n",
        "    ax.set(xticks=np.arange(cm.shape[1]),\n",
        "           yticks=np.arange(cm.shape[0]),\n",
        "           # ... and label them with the respective list entries\n",
        "           xticklabels=classes, yticklabels=classes,\n",
        "           title=title,\n",
        "           ylabel='True label',\n",
        "           xlabel='Predicted label')\n",
        "\n",
        "    # Rotate the tick labels and set their alignment.\n",
        "    plt.setp(ax.get_xticklabels(), rotation=45, ha=\"right\",\n",
        "             rotation_mode=\"anchor\")\n",
        "\n",
        "    # Loop over data dimensions and create text annotations.\n",
        "    fmt = '.2f' if normalize else 'd'\n",
        "    thresh = cm.max() / 2.\n",
        "    for i in range(cm.shape[0]):\n",
        "        for j in range(cm.shape[1]):\n",
        "            ax.text(j, i, format(cm[i, j], fmt),\n",
        "                    ha=\"center\", va=\"center\",\n",
        "                    color=\"white\" if cm[i, j] > thresh else \"black\")\n",
        "    fig.tight_layout()\n",
        "    return ax\n",
        "\n",
        "\n",
        "np.set_printoptions(precision=2)\n",
        "\n",
        "plot_confusion_matrix(y_true, y_pred, classes=class_names, normalize=True,\n",
        "                      title='Normalized confusion matrix')\n",
        "\n"
      ]
    },
    {
      "attachments": {},
      "cell_type": "markdown",
      "metadata": {
        "colab_type": "text",
        "id": "Dcn7_dqA2wbA"
      },
      "source": [
        "## Predicting Indivisual Images"
      ]
    },
    {
      "cell_type": "code",
      "execution_count": null,
      "metadata": {
        "colab": {
          "base_uri": "https://localhost:8080/",
          "height": 518
        },
        "colab_type": "code",
        "id": "xv4N5Zvw2zUD",
        "outputId": "1dfa23c1-089a-44af-9758-7322832ffd23"
      },
      "outputs": [],
      "source": [
        "n = 23 #do not exceed (number of test image - 1)\n",
        "\n",
        "plt.imshow(x_test[n])\n",
        "plt.show()\n",
        "\n",
        "true_label = np.argmax(y_test,axis=1)[n]\n",
        "print(\"Gambar Yang Benar Adalah:\",true_label,\":\",class_names[true_label])\n",
        "prediction = model.predict(x_test[n][np.newaxis,...])[0]\n",
        "print(\"prediksi Value:\",prediction)\n",
        "predicted_label = np.argmax(prediction)\n",
        "print(\"prediksi gambar:\",predicted_label,\":\",class_names[predicted_label])\n",
        "\n",
        "if true_label == predicted_label:\n",
        "    print(\"Prediksi Benar\")\n",
        "else:\n",
        "    print(\"Prediksi Salah\")"
      ]
    },
    {
      "cell_type": "code",
      "execution_count": null,
      "metadata": {
        "colab": {
          "base_uri": "https://localhost:8080/",
          "height": 349
        },
        "colab_type": "code",
        "id": "_A9CgGBb23tt",
        "outputId": "1b3eebdd-5e5b-4fb3-c5e3-a8aec72e1ff5"
      },
      "outputs": [],
      "source": [
        "keras_file = \"DeteksiPenyakitCabai.hdf5\"\n",
        "tf.keras.models.save_model(model, keras_file)\n",
        "\n",
        "# Convert to TensorFlow Lite model.\n",
        "converter = tf.lite.TFLiteConverter.from_keras_model_file(keras_file)\n",
        "tflite_model = converter.convert()\n",
        "open(\"DeteksiPenyakitTanamanMobileNet.tflite\", \"wb\").write(tflite_model)"
      ]
    }
  ],
  "metadata": {
    "accelerator": "GPU",
    "colab": {
      "collapsed_sections": [],
      "include_colab_link": true,
      "machine_shape": "hm",
      "name": "DeteksiPenyakit_tanaman_mobilenet_Insya_Allah_fix.ipynb",
      "provenance": [],
      "toc_visible": true
    },
    "kernelspec": {
      "display_name": "Python 3",
      "name": "python3"
    },
    "language_info": {
      "codemirror_mode": {
        "name": "ipython",
        "version": 3
      },
      "file_extension": ".py",
      "mimetype": "text/x-python",
      "name": "python",
      "nbconvert_exporter": "python",
      "pygments_lexer": "ipython3",
      "version": "3.12.2"
    }
  },
  "nbformat": 4,
  "nbformat_minor": 0
}
